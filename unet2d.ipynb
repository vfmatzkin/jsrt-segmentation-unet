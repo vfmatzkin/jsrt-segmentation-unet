{
  "nbformat": 4,
  "nbformat_minor": 0,
  "metadata": {
    "colab": {
      "name": "unet2d.ipynb",
      "provenance": []
    },
    "kernelspec": {
      "name": "python3",
      "display_name": "Python 3"
    },
    "accelerator": "GPU"
  },
  "cells": [
    {
      "cell_type": "markdown",
      "metadata": {
        "id": "4Sh_4QVyBG5b",
        "colab_type": "text"
      },
      "source": [
        "# Preparar Dataset y DataLoader"
      ]
    },
    {
      "cell_type": "code",
      "metadata": {
        "id": "kAY-el8EKt8Q",
        "colab_type": "code",
        "colab": {
          "base_uri": "https://localhost:8080/",
          "height": 124
        },
        "outputId": "1590da89-5a48-4e50-9a0b-5bd2e3346cb3"
      },
      "source": [
        "from google.colab import drive\n",
        "drive.mount('/content/drive')"
      ],
      "execution_count": 1,
      "outputs": [
        {
          "output_type": "stream",
          "text": [
            "Go to this URL in a browser: https://accounts.google.com/o/oauth2/auth?client_id=947318989803-6bn6qk8qdgf4n4g3pfee6491hc0brc4i.apps.googleusercontent.com&redirect_uri=urn%3aietf%3awg%3aoauth%3a2.0%3aoob&response_type=code&scope=email%20https%3a%2f%2fwww.googleapis.com%2fauth%2fdocs.test%20https%3a%2f%2fwww.googleapis.com%2fauth%2fdrive%20https%3a%2f%2fwww.googleapis.com%2fauth%2fdrive.photos.readonly%20https%3a%2f%2fwww.googleapis.com%2fauth%2fpeopleapi.readonly\n",
            "\n",
            "Enter your authorization code:\n",
            "··········\n",
            "Mounted at /content/drive\n"
          ],
          "name": "stdout"
        }
      ]
    },
    {
      "cell_type": "markdown",
      "metadata": {
        "id": "jar0S-LmMu45",
        "colab_type": "text"
      },
      "source": [
        "En primer lugar debe crearse una clase heredada de Dataset la cual permitirá obtener los datos que serán suministrados al modelo.\n",
        "\n",
        "\n",
        "Esta clase tiene tres funciones importantes que deberán implementarse:\n",
        "*   init() : procesos iniciales como leer un archivo csv, asignar transformaciones...\n",
        "*   getitem() : devuelve dato y etiqueta dado un índice arbitrario\n",
        "*   len() : devuelve el tamaño del dataset\n"
      ]
    },
    {
      "cell_type": "code",
      "metadata": {
        "id": "KRuRu9r2aRqX",
        "colab_type": "code",
        "colab": {}
      },
      "source": [
        "import numpy as np\n",
        "from torch.utils.data import Dataset\n",
        "from PIL import Image  # es mejor trabajar con arreglos numpy o con PIL ?????\n",
        "import glob\n",
        "import os\n",
        "\n",
        "class DatasetSegmentation(Dataset):\n",
        "\n",
        "    def __init__(self, folder_path, transform):\n",
        "        super(DatasetSegmentation, self).__init__()\n",
        "        self.img_files = glob.glob( os.path.join(folder_path,'Images','*.png') )\n",
        "        self.mask_files = glob.glob( os.path.join(folder_path,'Labels','*.png') )\n",
        "        self.transform = transform\n",
        "\n",
        "    def __getitem__(self, index):\n",
        "            img_path = self.img_files[index]\n",
        "            mask_path = self.mask_files[index]\n",
        "\n",
        "            # data = Image.open(img_path).convert('RGB')  ## no se si es necesario que tenga 3 canales la imagen\n",
        "            data = Image.open(img_path)\n",
        "            # label = Image.open(mask_path).convert('RGB') \n",
        "            label = Image.open(mask_path)\n",
        "\n",
        "            data = self.transform(data)\n",
        "            label = self.transform(label)\n",
        "\n",
        "            return data, label\n",
        "\n",
        "    def __len__(self):\n",
        "        return len(self.img_files)\n"
      ],
      "execution_count": 3,
      "outputs": []
    },
    {
      "cell_type": "markdown",
      "metadata": {
        "id": "-ZkAgXA5TOye",
        "colab_type": "text"
      },
      "source": [
        "\n",
        "A través de la función Compose del módulo transforms, se podrá crear un objeto que establece un conjunto de operaciones que serán aplicadas a los datos del dataset. Este objeto será pasado como argumento en el momento de instanciar el dataset."
      ]
    },
    {
      "cell_type": "code",
      "metadata": {
        "id": "4Tt3oqOuVbJT",
        "colab_type": "code",
        "colab": {}
      },
      "source": [
        "from torchvision import transforms\n",
        "\n",
        "size_inp_img = 128\n",
        "\n",
        "trans = transforms.Compose([\n",
        "    transforms.Resize(size_inp_img), # para acotar el tiempo de entrenamiento\n",
        "    transforms.ToTensor()\n",
        "    # transforms.Normalize([0.485, 0.456, 0.406], [0.229, 0.224, 0.225]) # imagenet (calcular esto valores antes)\n",
        "])"
      ],
      "execution_count": 4,
      "outputs": []
    },
    {
      "cell_type": "markdown",
      "metadata": {
        "id": "xiy_4j2yK2XY",
        "colab_type": "text"
      },
      "source": [
        "Luego deberán instanciarse objetos tipo DataLoader. Esta clase permite cargar los datos de un Dataset para luego proveerlos al modelo. La ventaja que tiene es que los caraga en segundo plano para que estén listos ni bien sean necesarios. \n",
        "\n",
        "Además permite crear minibatch de datos (batch_size) como así también muestrearlos uniformemente luego de cada época (shuffle=True)\n"
      ]
    },
    {
      "cell_type": "code",
      "metadata": {
        "id": "gbHjjFh7NLU3",
        "colab_type": "code",
        "colab": {}
      },
      "source": [
        "from torch.utils.data import DataLoader\n",
        "\n",
        "# crear una instancia dataloader por cada dataset, con un batch_size dado y con shuffling activado\n",
        "\n",
        "train_path = '/content/drive/My Drive/PFC/unet2D/datos-jsrt/Train'\n",
        "validation_path = '/content/drive/My Drive/PFC/unet2D/datos-jsrt/Val'\n",
        "test_path = '/content/drive/My Drive/PFC/unet2D/datos-jsrt/Test'\n",
        "\n",
        "train_set = DatasetSegmentation(train_path, trans)\n",
        "val_set = DatasetSegmentation(validation_path, trans)\n",
        "test_set = DatasetSegmentation(test_path, trans)\n",
        "\n",
        "image_datasets = { 'train': train_set, 'val': val_set, 'test' : test_set }\n",
        "\n",
        "batch_size = 2 # especificar tamaño del batch\n",
        "\n",
        "dataloaders = {\n",
        "    'train': DataLoader(train_set, batch_size=batch_size),\n",
        "    'val': DataLoader(val_set, batch_size=batch_size),\n",
        "    'test': DataLoader(test_set, batch_size=batch_size)\n",
        "}\n"
      ],
      "execution_count": 5,
      "outputs": []
    },
    {
      "cell_type": "markdown",
      "metadata": {
        "id": "padQF0VEBiUw",
        "colab_type": "text"
      },
      "source": [
        "# Comprobar la salida del DataLoader"
      ]
    },
    {
      "cell_type": "code",
      "metadata": {
        "id": "TjPhUGfq8shi",
        "colab_type": "code",
        "colab": {}
      },
      "source": [
        "\n",
        "def reverse_transform(inp):\n",
        "    \"\"\" Esta función permite revertir las transformaciones aplicadas al inicio para poder mostrar cómo son originalmente \"\"\"\n",
        "    inp = transforms.ToPILImage()(inp)\n",
        "    # inp = np.array(inp)\n",
        "    # # print(inp)\n",
        "    # mean = np.array([0.485, 0.456, 0.406])\n",
        "    # std = np.array([0.229, 0.224, 0.225])\n",
        "    # inp = std * inp/255 + mean\n",
        "    # # print(inp)\n",
        "    # inp = np.clip(inp, 0, 1)\n",
        "    \n",
        "    return inp"
      ],
      "execution_count": null,
      "outputs": []
    },
    {
      "cell_type": "markdown",
      "metadata": {
        "id": "0rNdAAUZYP17",
        "colab_type": "text"
      },
      "source": [
        "Pytorch requiere que las imágenes se almacenen en tensores con las siguientes dimensiones: B x C x H x W.\n",
        "\n",
        "* B o N es el tamaño del batch o la cantidad de datos de dimensiones (C x H X W)\n",
        "* C cantidad de canales de la imagen\n",
        "* H altura de la imagen\n",
        "* W ancho de la imagen"
      ]
    },
    {
      "cell_type": "code",
      "metadata": {
        "id": "avBvtfJvf6cl",
        "colab_type": "code",
        "colab": {
          "base_uri": "https://localhost:8080/",
          "height": 587
        },
        "outputId": "a518bb08-1067-44ef-aa91-37d1ed793317"
      },
      "source": [
        "import matplotlib.pyplot as plt\n",
        "\n",
        "# Mostrar la cantidad de datos cargados, listos para procesar \n",
        "print('Cantidad de datos cargados: ',len(dataloaders['train']))\n",
        "\n",
        "# Obtener un batch de los datos de entrenamiento\n",
        "inputs, masks = next(iter(dataloaders['train']))\n",
        "\n",
        "# N x C x H x W\n",
        "print('shape: ',inputs.shape, masks.shape)\n",
        "print('dtype: ',inputs.dtype, masks.dtype)\n",
        "\n",
        "# print( transforms.ToPILImage()(inputs[0]) )\n",
        "plt.figure()\n",
        "# plt.imshow(reverse_transform(inputs[0]))\n",
        "plt.imshow( reverse_transform(inputs[0]))\n",
        "\n",
        "# print(reverse_transform(masks[0]))\n",
        "plt.figure()\n",
        "# plt.imshow(reverse_transform(masks[0])*255)\n",
        "plt.imshow( transforms.ToPILImage()(masks[0]*255))"
      ],
      "execution_count": null,
      "outputs": [
        {
          "output_type": "stream",
          "text": [
            "Cantidad de datos cargados:  87\n",
            "shape:  torch.Size([2, 1, 128, 128]) torch.Size([2, 1, 128, 128])\n",
            "dtype:  torch.float32 torch.float32\n"
          ],
          "name": "stdout"
        },
        {
          "output_type": "execute_result",
          "data": {
            "text/plain": [
              "<matplotlib.image.AxesImage at 0x7faf4b279518>"
            ]
          },
          "metadata": {
            "tags": []
          },
          "execution_count": 59
        },
        {
          "output_type": "display_data",
          "data": {
            "image/png": "[encoded data removed]",
            "text/plain": [
              "<Figure size 432x288 with 1 Axes>"
            ]
          },
          "metadata": {
            "tags": [],
            "needs_background": "light"
          }
        },
        {
          "output_type": "display_data",
          "data": {
            "image/png": "[encoded data removed]",
            "text/plain": [
              "<Figure size 432x288 with 1 Axes>"
            ]
          },
          "metadata": {
            "tags": [],
            "needs_background": "light"
          }
        }
      ]
    },
    {
      "cell_type": "markdown",
      "metadata": {
        "id": "iZOFMi9PBqA3",
        "colab_type": "text"
      },
      "source": [
        "# Crear el modelo Unet"
      ]
    },
    {
      "cell_type": "markdown",
      "metadata": {
        "id": "AD__R-oPY6xk",
        "colab_type": "text"
      },
      "source": [
        "Este modelo se tomó de acá: https://github.com/ptrblck/pytorch_misc/blob/master/unet_demo.py#L81"
      ]
    },
    {
      "cell_type": "code",
      "metadata": {
        "id": "pAZlQZhoNPac",
        "colab_type": "code",
        "colab": {}
      },
      "source": [
        "import torch\n",
        "import torch.nn as nn\n",
        "import torch.optim as optim\n",
        "import torch.nn.functional as F\n",
        "\n",
        "class BaseConv(nn.Module):\n",
        "    def __init__(self, in_channels, out_channels, kernel_size, padding, stride):\n",
        "        super(BaseConv, self).__init__()\n",
        "\n",
        "        self.act = nn.ReLU()\n",
        "\n",
        "        self.conv1 = nn.Conv2d(in_channels, out_channels, kernel_size, padding, stride)\n",
        "        self.conv2 = nn.Conv2d(out_channels, out_channels, kernel_size, padding, stride)\n",
        "\n",
        "    def forward(self, x):\n",
        "        x = self.act(self.conv1(x))\n",
        "        x = self.act(self.conv2(x))\n",
        "        return x\n",
        "\n",
        "\n",
        "class DownConv(nn.Module):\n",
        "    def __init__(self, in_channels, out_channels, kernel_size, padding, stride):\n",
        "        super(DownConv, self).__init__()\n",
        "\n",
        "        self.pool1 = nn.MaxPool2d(kernel_size=2)\n",
        "        self.conv_block = BaseConv(in_channels, out_channels, kernel_size, padding, stride)\n",
        "\n",
        "    def forward(self, x):\n",
        "        x = self.pool1(x)\n",
        "        x = self.conv_block(x)\n",
        "        return x\n",
        "\n",
        "\n",
        "class UpConv(nn.Module):\n",
        "    def __init__(self, in_channels, in_channels_skip, out_channels, kernel_size, padding, stride):\n",
        "        super(UpConv, self).__init__()\n",
        "\n",
        "        # self.conv_trans1 = nn.ConvTranspose2d(in_channels, out_channels, kernel_size=2, padding=0, stride=2) # original... converge mas lento\n",
        "        self.conv_trans1 = nn.ConvTranspose2d(in_channels, in_channels, kernel_size=2, padding=0, stride=2)\n",
        "        # ConvTranspose is a convolution and has trainable kernels while Upsample is a simple interpolation (bilinear, nearest etc.)\n",
        "        # https://medium.com/activating-robotic-minds/up-sampling-with-transposed-convolution-9ae4f2df52d0\n",
        "\n",
        "        self.conv_block = BaseConv(\n",
        "            in_channels = in_channels + in_channels_skip,\n",
        "            # in_channels = out_channels,  # original... converge mas lento\n",
        "            out_channels = out_channels,\n",
        "            kernel_size = kernel_size,\n",
        "            padding = padding,\n",
        "            stride = stride)\n",
        "\n",
        "    def forward(self, x, x_skip):\n",
        "        x = self.conv_trans1(x)\n",
        "        x = torch.cat((x, x_skip), dim=1)\n",
        "        x = self.conv_block(x)\n",
        "        return x\n",
        "\n",
        "\n",
        "class UNet(nn.Module):\n",
        "    def __init__(self, in_channels, out_channels, n_class, kernel_size, padding, stride):\n",
        "        super(UNet, self).__init__()\n",
        "\n",
        "        self.init_conv = BaseConv(in_channels, out_channels, kernel_size, padding, stride) # 2 conv\n",
        "\n",
        "        self.down1 = DownConv(out_channels, 2 * out_channels, kernel_size, padding, stride) # max pool y 2 (conv+relu)\n",
        "        self.down2 = DownConv(2 * out_channels, 4 * out_channels, kernel_size, padding, stride) # max pool y 2 (conv+relu)\n",
        "        self.down3 = DownConv(4 * out_channels, 8 * out_channels, kernel_size, padding, stride) # max pool y 2 (conv+relu)\n",
        "        # el original hace un DownConv más\n",
        "\n",
        "        self.up3 = UpConv(8 * out_channels, 4 * out_channels, 4 * out_channels, kernel_size, padding, stride) # upconv, concat, 2 (conv+relu)\n",
        "        self.up2 = UpConv(4 * out_channels, 2 * out_channels, 2 * out_channels, kernel_size, padding, stride) # upconv, concat, 2 (conv+relu)\n",
        "        self.up1 = UpConv(2 * out_channels, out_channels, out_channels, kernel_size, padding, stride) # upconv, concat, 2 (conv+relu)\n",
        "\n",
        "        self.out = nn.Conv2d(out_channels, n_class, kernel_size, padding, stride)\n",
        "\n",
        "    def forward(self, x):\n",
        "        # Encoder\n",
        "        x = self.init_conv(x)\n",
        "        x1 = self.down1(x)\n",
        "        x2 = self.down2(x1)\n",
        "        x3 = self.down3(x2)\n",
        "        # Decoder\n",
        "        x_up = self.up3(x3, x2)\n",
        "        x_up = self.up2(x_up, x1)\n",
        "        x_up = self.up1(x_up, x)\n",
        "        x_out = F.log_softmax(self.out(x_up), dim=1) # en otras arquitecturas unet no hace esto\n",
        "        # softmax -> prob que suman 1 ... log_softmax -> reales negativos\n",
        "        # identity activations in the final layer -> CrossEntropyLoss ... log_softmax activation -> NLLLoss\n",
        "        # https://stats.stackexchange.com/questions/436766/cross-entropy-with-log-softmax-activation\n",
        "        # https://discuss.pytorch.org/t/does-nllloss-handle-log-softmax-and-softmax-in-the-same-way/8835/6\n",
        "        # https://medium.com/data-science-bootcamp/understand-the-softmax-function-in-minutes-f3a59641e86d \n",
        "  \n",
        "        return x_out\n"
      ],
      "execution_count": null,
      "outputs": []
    },
    {
      "cell_type": "markdown",
      "metadata": {
        "id": "BMEFI5itByh0",
        "colab_type": "text"
      },
      "source": [
        "# Resumen del modelo\n",
        "\n",
        "Mostrar un resumen del modelo a partir de una entrada dada. El mismo especifica cada una de las capas del modelo, con la forma del tensor de salida y la cantidad de parámetros. Por último se muestra el total de parámetros, cuántos son entrenables y tamaño que ocuparán en memoria."
      ]
    },
    {
      "cell_type": "code",
      "metadata": {
        "id": "7QQ8nS3thYWj",
        "colab_type": "code",
        "colab": {}
      },
      "source": [
        "nb_classes = 2  # se cuenta desde la clase 0 a la 9\n",
        "# x = torch.randn(1, 3, 96, 96)\n",
        "# y = torch.randint(0, nb_classes, (1, 96, 96))\n",
        "\n",
        "model = UNet(in_channels = 1,\n",
        "            #  in_channels = 3,\n",
        "             out_channels = 64,\n",
        "            #  n_class = 10,\n",
        "             n_class = nb_classes,\n",
        "             kernel_size = 3,\n",
        "             padding = 1,\n",
        "             stride = 1 )\n",
        "model = model.cuda()\n",
        "\n",
        "loss_fn = nn.NLLLoss()\n",
        "optimizer = optim.Adam(model.parameters(), lr=1e-4)\n"
      ],
      "execution_count": null,
      "outputs": []
    },
    {
      "cell_type": "code",
      "metadata": {
        "id": "eGaG5w-yZxAX",
        "colab_type": "code",
        "colab": {}
      },
      "source": [
        "from torchsummary import summary\n",
        "summary(model, input_size=(1, size_inp_img, size_inp_img))"
      ],
      "execution_count": null,
      "outputs": []
    },
    {
      "cell_type": "markdown",
      "metadata": {
        "id": "U_4m0A6qB3_d",
        "colab_type": "text"
      },
      "source": [
        "# Definir la función de entrenamiento"
      ]
    },
    {
      "cell_type": "code",
      "metadata": {
        "id": "eP9ZAuQnN9sk",
        "colab_type": "code",
        "colab": {}
      },
      "source": [
        "def train(model, optimizer, loss_fn, train_loader, val_loader, epochs=20): \n",
        "\n",
        "    device = torch.device('cuda' if torch.cuda.is_available() else 'cpu')\n",
        "    model = model.to(device)\n",
        "\n",
        "    for epoch in range(epochs): \n",
        "\n",
        "        training_loss = 0.0         \n",
        "        valid_loss = 0.0 \n",
        "        epoch_samples = 0\n",
        "\n",
        "        model.train()  # activa dropout (en este caso no hay)\n",
        "        for inputs, target in train_loader: \n",
        "            target = target.squeeze(1) # analizar.. pero es xq la dimension channel no interesa\n",
        "\n",
        "            inputs = inputs.to(device) \n",
        "            target = target.to(device) \n",
        "\n",
        "            # print('shape: ',inputs.shape, target.shape)\n",
        "            # print('dtype: ',inputs.dtype, target.dtype)\n",
        "\n",
        "            output = model(inputs) \n",
        "            loss = loss_fn(output, target.long())  # .type(torch.LongTensor) se agregó xq daba problema, analizar\n",
        "\n",
        "            # gradients are accumulated on top of each other every time we call backward unless we zero out the gradients explicitly\n",
        "            optimizer.zero_grad() # zeroes the grad attribute of all the parameters passed to the optimizer construction.\n",
        "            loss.backward() # calcula los gradientes respecto de los parametros \n",
        "            optimizer.step() # pasada hacia adelante actualizando los parametros  \n",
        "\n",
        "            # statistics\n",
        "            training_loss += loss.data.item() # extracts the loss’s value as a Python float\n",
        "            epoch_samples += inputs.size(0) # batch size\n",
        "            print('training_loss: ',training_loss)\n",
        "            print('epoch_samples: ',epoch_samples)\n",
        "\n",
        "        training_loss /= epoch_samples\n",
        "\n",
        "        epoch_samples = 0\n",
        "\n",
        "        model.eval()  # dropout is bypassed or, equivalently, assigned a probability  equal  to  zero.\n",
        "        num_correct = 0 \n",
        "        num_examples = 0 \n",
        "        for inputs, target in val_loader: \n",
        "\n",
        "            inputs = inputs.to(device) \n",
        "            target = target.to(device) \n",
        "            target = target.squeeze(1) # analizar.. pero es xq la dimension channel no interesa\n",
        "\n",
        "            output = model(inputs) \n",
        "            loss = loss_fn(output, target.long()) \n",
        "\n",
        "            # statistics\n",
        "            valid_loss += loss.data.item() \n",
        "            epoch_samples += inputs.size(0) # batch size\n",
        "\n",
        "        valid_loss /= epoch_samples\n",
        " \n",
        "        print('Epoch: {},  Training Loss: {:.3f},  Validation Loss: {:.3f}' \\\n",
        "              .format( epoch, training_loss, valid_loss) )"
      ],
      "execution_count": null,
      "outputs": []
    },
    {
      "cell_type": "markdown",
      "metadata": {
        "id": "OuDL1grvB_uq",
        "colab_type": "text"
      },
      "source": [
        "# Entrenar y validar"
      ]
    },
    {
      "cell_type": "code",
      "metadata": {
        "id": "J7KMZt7obVi1",
        "colab_type": "code",
        "colab": {}
      },
      "source": [
        "train(model, optimizer, loss_fn, dataloaders['train'], dataloaders['val'], epochs=10)"
      ],
      "execution_count": null,
      "outputs": []
    }
  ]
}